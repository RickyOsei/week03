{
 "cells": [
  {
   "cell_type": "code",
   "execution_count": 25,
   "id": "374701d4",
   "metadata": {},
   "outputs": [],
   "source": [
    "import pandas as pd\n",
    "import os\n",
    "import matplotlib.pyplot as plt\n",
    "import numpy as np\n",
    "from matplotlib.gridspec import GridSpec"
   ]
  },
  {
   "cell_type": "code",
   "execution_count": 7,
   "id": "2cf3ab56",
   "metadata": {},
   "outputs": [
    {
     "data": {
      "text/plain": [
       "'C:\\\\Users\\\\Surface\\\\Desktop\\\\City University\\\\Principles of Data Science\\\\Week 03'"
      ]
     },
     "execution_count": 7,
     "metadata": {},
     "output_type": "execute_result"
    }
   ],
   "source": [
    "os.getcwd()"
   ]
  },
  {
   "cell_type": "code",
   "execution_count": 17,
   "id": "a382c782",
   "metadata": {},
   "outputs": [],
   "source": [
    "accord_sedan = pd.read_csv(\"accord_sedan.csv\")"
   ]
  },
  {
   "cell_type": "code",
   "execution_count": 18,
   "id": "7ae96486",
   "metadata": {},
   "outputs": [
    {
     "data": {
      "text/html": [
       "<div>\n",
       "<style scoped>\n",
       "    .dataframe tbody tr th:only-of-type {\n",
       "        vertical-align: middle;\n",
       "    }\n",
       "\n",
       "    .dataframe tbody tr th {\n",
       "        vertical-align: top;\n",
       "    }\n",
       "\n",
       "    .dataframe thead th {\n",
       "        text-align: right;\n",
       "    }\n",
       "</style>\n",
       "<table border=\"1\" class=\"dataframe\">\n",
       "  <thead>\n",
       "    <tr style=\"text-align: right;\">\n",
       "      <th></th>\n",
       "      <th>price</th>\n",
       "      <th>mileage</th>\n",
       "      <th>year</th>\n",
       "      <th>trim</th>\n",
       "      <th>engine</th>\n",
       "      <th>transmission</th>\n",
       "    </tr>\n",
       "  </thead>\n",
       "  <tbody>\n",
       "    <tr>\n",
       "      <th>0</th>\n",
       "      <td>14995</td>\n",
       "      <td>67697</td>\n",
       "      <td>2006</td>\n",
       "      <td>ex</td>\n",
       "      <td>4 Cyl</td>\n",
       "      <td>Manual</td>\n",
       "    </tr>\n",
       "    <tr>\n",
       "      <th>1</th>\n",
       "      <td>11988</td>\n",
       "      <td>73738</td>\n",
       "      <td>2006</td>\n",
       "      <td>ex</td>\n",
       "      <td>4 Cyl</td>\n",
       "      <td>Manual</td>\n",
       "    </tr>\n",
       "    <tr>\n",
       "      <th>2</th>\n",
       "      <td>11999</td>\n",
       "      <td>80313</td>\n",
       "      <td>2006</td>\n",
       "      <td>lx</td>\n",
       "      <td>4 Cyl</td>\n",
       "      <td>Automatic</td>\n",
       "    </tr>\n",
       "    <tr>\n",
       "      <th>3</th>\n",
       "      <td>12995</td>\n",
       "      <td>86096</td>\n",
       "      <td>2006</td>\n",
       "      <td>lx</td>\n",
       "      <td>4 Cyl</td>\n",
       "      <td>Automatic</td>\n",
       "    </tr>\n",
       "    <tr>\n",
       "      <th>4</th>\n",
       "      <td>11333</td>\n",
       "      <td>79607</td>\n",
       "      <td>2006</td>\n",
       "      <td>lx</td>\n",
       "      <td>4 Cyl</td>\n",
       "      <td>Automatic</td>\n",
       "    </tr>\n",
       "    <tr>\n",
       "      <th>...</th>\n",
       "      <td>...</td>\n",
       "      <td>...</td>\n",
       "      <td>...</td>\n",
       "      <td>...</td>\n",
       "      <td>...</td>\n",
       "      <td>...</td>\n",
       "    </tr>\n",
       "    <tr>\n",
       "      <th>412</th>\n",
       "      <td>12456</td>\n",
       "      <td>67564</td>\n",
       "      <td>2006</td>\n",
       "      <td>lx</td>\n",
       "      <td>4 Cyl</td>\n",
       "      <td>Automatic</td>\n",
       "    </tr>\n",
       "    <tr>\n",
       "      <th>413</th>\n",
       "      <td>10995</td>\n",
       "      <td>69775</td>\n",
       "      <td>2006</td>\n",
       "      <td>ex</td>\n",
       "      <td>4 Cyl</td>\n",
       "      <td>Automatic</td>\n",
       "    </tr>\n",
       "    <tr>\n",
       "      <th>414</th>\n",
       "      <td>16000</td>\n",
       "      <td>77997</td>\n",
       "      <td>2006</td>\n",
       "      <td>exl</td>\n",
       "      <td>4 Cyl</td>\n",
       "      <td>Automatic</td>\n",
       "    </tr>\n",
       "    <tr>\n",
       "      <th>415</th>\n",
       "      <td>14700</td>\n",
       "      <td>61892</td>\n",
       "      <td>2006</td>\n",
       "      <td>ex</td>\n",
       "      <td>4 Cyl</td>\n",
       "      <td>Automatic</td>\n",
       "    </tr>\n",
       "    <tr>\n",
       "      <th>416</th>\n",
       "      <td>14755</td>\n",
       "      <td>43034</td>\n",
       "      <td>2006</td>\n",
       "      <td>ex</td>\n",
       "      <td>4 Cyl</td>\n",
       "      <td>Automatic</td>\n",
       "    </tr>\n",
       "  </tbody>\n",
       "</table>\n",
       "<p>417 rows × 6 columns</p>\n",
       "</div>"
      ],
      "text/plain": [
       "     price  mileage  year trim engine transmission\n",
       "0    14995    67697  2006   ex  4 Cyl       Manual\n",
       "1    11988    73738  2006   ex  4 Cyl       Manual\n",
       "2    11999    80313  2006   lx  4 Cyl    Automatic\n",
       "3    12995    86096  2006   lx  4 Cyl    Automatic\n",
       "4    11333    79607  2006   lx  4 Cyl    Automatic\n",
       "..     ...      ...   ...  ...    ...          ...\n",
       "412  12456    67564  2006   lx  4 Cyl    Automatic\n",
       "413  10995    69775  2006   ex  4 Cyl    Automatic\n",
       "414  16000    77997  2006  exl  4 Cyl    Automatic\n",
       "415  14700    61892  2006   ex  4 Cyl    Automatic\n",
       "416  14755    43034  2006   ex  4 Cyl    Automatic\n",
       "\n",
       "[417 rows x 6 columns]"
      ]
     },
     "execution_count": 18,
     "metadata": {},
     "output_type": "execute_result"
    }
   ],
   "source": [
    "accord_sedan"
   ]
  },
  {
   "cell_type": "code",
   "execution_count": 23,
   "id": "8092ce48",
   "metadata": {},
   "outputs": [
    {
     "data": {
      "image/png": "[encoded data removed]",
      "text/plain": [
       "<Figure size 432x288 with 1 Axes>"
      ]
     },
     "metadata": {
      "needs_background": "light"
     },
     "output_type": "display_data"
    }
   ],
   "source": [
    "mileage = accord_sedan.boxplot(column = [\"mileage\"])"
   ]
  },
  {
   "cell_type": "code",
   "execution_count": 22,
   "id": "b056b2ca",
   "metadata": {},
   "outputs": [
    {
     "data": {
      "image/png": "[encoded data removed]",
      "text/plain": [
       "<Figure size 432x288 with 1 Axes>"
      ]
     },
     "metadata": {
      "needs_background": "light"
     },
     "output_type": "display_data"
    }
   ],
   "source": [
    "prices1 = accord_sedan.boxplot(column = [\"price\"])"
   ]
  },
  {
   "cell_type": "code",
   "execution_count": 27,
   "id": "82eb348b",
   "metadata": {},
   "outputs": [
    {
     "data": {
      "image/png": "[encoded data removed]",
      "text/plain": [
       "<Figure size 432x288 with 3 Axes>"
      ]
     },
     "metadata": {
      "needs_background": "light"
     },
     "output_type": "display_data"
    }
   ],
   "source": [
    "df = pd.read_csv('accord_sedan.csv')\n",
    "\n",
    "fig = plt.figure()\n",
    "gs = GridSpec(4, 4)\n",
    "\n",
    "ax_scatter = fig.add_subplot(gs[1:4, 0:3])\n",
    "ax_hist_x = fig.add_subplot(gs[0,0:3])\n",
    "ax_hist_y = fig.add_subplot(gs[1:4, 3])\n",
    "\n",
    "ax_scatter.scatter(df['price'], df['mileage'])\n",
    "\n",
    "ax_hist_x.hist(df['price'])\n",
    "ax_hist_y.hist(df['mileage'], orientation = 'horizontal')\n",
    "\n",
    "plt.show()"
   ]
  },
  {
   "cell_type": "code",
   "execution_count": 28,
   "id": "843e1ac9",
   "metadata": {},
   "outputs": [
    {
     "data": {
      "image/png": "[encoded data removed]",
      "text/plain": [
       "<Figure size 432x288 with 3 Axes>"
      ]
     },
     "metadata": {
      "needs_background": "light"
     },
     "output_type": "display_data"
    }
   ],
   "source": [
    "df = pd.read_csv('accord_sedan.csv')\n",
    "\n",
    "fig = plt.figure()\n",
    "gs = GridSpec(4, 4)\n",
    "\n",
    "ax_scatter = fig.add_subplot(gs[1:4, 0:3])\n",
    "ax_hist_x = fig.add_subplot(gs[0,0:3])\n",
    "ax_hist_y = fig.add_subplot(gs[1:4, 3])\n",
    "\n",
    "ax_scatter.scatter(df['mileage'], df['price'])\n",
    "\n",
    "ax_hist_x.hist(df['price'])\n",
    "ax_hist_y.hist(df['mileage'], orientation = 'horizontal')\n",
    "\n",
    "plt.show()"
   ]
  },
  {
   "cell_type": "code",
   "execution_count": 31,
   "id": "5988c043",
   "metadata": {},
   "outputs": [],
   "source": [
    "accord_sedan_pricemean = df[\"price\"].mean()"
   ]
  },
  {
   "cell_type": "code",
   "execution_count": 32,
   "id": "520d2f92",
   "metadata": {},
   "outputs": [
    {
     "data": {
      "text/plain": [
       "12084.242206235012"
      ]
     },
     "execution_count": 32,
     "metadata": {},
     "output_type": "execute_result"
    }
   ],
   "source": [
    "accord_sedan_pricemean"
   ]
  },
  {
   "cell_type": "code",
   "execution_count": 33,
   "id": "e4e9cb10",
   "metadata": {},
   "outputs": [],
   "source": [
    "accord_sedan_pricestd = df[\"price\"].std()"
   ]
  },
  {
   "cell_type": "code",
   "execution_count": 34,
   "id": "6a60049f",
   "metadata": {},
   "outputs": [
    {
     "data": {
      "text/plain": [
       "2061.430033967955"
      ]
     },
     "execution_count": 34,
     "metadata": {},
     "output_type": "execute_result"
    }
   ],
   "source": [
    "accord_sedan_pricestd"
   ]
  },
  {
   "cell_type": "code",
   "execution_count": null,
   "id": "504ac4e6",
   "metadata": {},
   "outputs": [],
   "source": []
  }
 ],
 "metadata": {
  "kernelspec": {
   "display_name": "Python 3 (ipykernel)",
   "language": "python",
   "name": "python3"
  },
  "language_info": {
   "codemirror_mode": {
    "name": "ipython",
    "version": 3
   },
   "file_extension": ".py",
   "mimetype": "text/x-python",
   "name": "python",
   "nbconvert_exporter": "python",
   "pygments_lexer": "ipython3",
   "version": "3.9.13"
  }
 },
 "nbformat": 4,
 "nbformat_minor": 5
}
